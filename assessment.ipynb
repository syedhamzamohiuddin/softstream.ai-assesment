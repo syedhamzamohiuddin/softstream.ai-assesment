{
 "cells": [
  {
   "cell_type": "code",
   "execution_count": 2,
   "id": "892fb3c6-34b9-4115-9c9d-dfef57a75d8b",
   "metadata": {},
   "outputs": [],
   "source": [
    "import pandas as pd\n",
    "import re\n",
    "import nltk\n",
    "from nltk.corpus import stopwords\n",
    "from nltk.stem import WordNetLemmatizer as wnl\n",
    "from sklearn.feature_extraction.text import CountVectorizer\n",
    "from sklearn import preprocessing\n",
    "import matplotlib.pyplot as plt\n",
    "from sklearn.metrics import ConfusionMatrixDisplay, accuracy_score, precision_score, recall_score, f1_score\n",
    "import csv"
   ]
  },
  {
   "cell_type": "markdown",
   "id": "2a7b236b-ada5-48ec-a1fc-323ce61d64ec",
   "metadata": {},
   "source": [
    "__Download nltk resources__"
   ]
  },
  {
   "cell_type": "code",
   "execution_count": 3,
   "id": "b407f5df-7e77-428d-bd20-bccd8500c7ee",
   "metadata": {},
   "outputs": [
    {
     "name": "stderr",
     "output_type": "stream",
     "text": [
      "[nltk_data] Downloading package wordnet to\n",
      "[nltk_data]     C:\\Users\\SyedHamza\\AppData\\Roaming\\nltk_data...\n",
      "[nltk_data]   Package wordnet is already up-to-date!\n",
      "[nltk_data] Downloading package stopwords to\n",
      "[nltk_data]     C:\\Users\\SyedHamza\\AppData\\Roaming\\nltk_data...\n",
      "[nltk_data]   Package stopwords is already up-to-date!\n"
     ]
    },
    {
     "data": {
      "text/plain": [
       "True"
      ]
     },
     "execution_count": 3,
     "metadata": {},
     "output_type": "execute_result"
    }
   ],
   "source": [
    "nltk.download('wordnet')\n",
    "nltk.download('stopwords')"
   ]
  },
  {
   "cell_type": "markdown",
   "id": "27f37063-ae4c-4935-a93f-b84f8de771b5",
   "metadata": {},
   "source": [
    "## Load Data"
   ]
  },
  {
   "cell_type": "code",
   "execution_count": 4,
   "id": "baf01489-351c-44eb-b8c9-735d3f20b2b8",
   "metadata": {},
   "outputs": [
    {
     "name": "stdout",
     "output_type": "stream",
     "text": [
      "One of the other reviewers has mentioned that after watching just 1 Oz episode you'll be hooked. They are right, as this is exactly what happened with me.<br /><br />The first thing that struck me about Oz was its brutality and unflinching scenes of violence, which set in right from the word GO. Trust me, this is not a show for the faint hearted or timid. This show pulls no punches with regards to drugs, sex or violence. Its is hardcore, in the classic use of the word.<br /><br />It is called OZ as that is the nickname given to the Oswald Maximum Security State Penitentary. It focuses mainly on Emerald City, an experimental section of the prison where all the cells have glass fronts and face inwards, so privacy is not high on the agenda. Em City is home to many..Aryans, Muslims, gangstas, Latinos, Christians, Italians, Irish and more....so scuffles, death stares, dodgy dealings and shady agreements are never far away.<br /><br />I would say the main appeal of the show is due to the fact that it goes where other shows wouldn't dare. Forget pretty pictures painted for mainstream audiences, forget charm, forget romance...OZ doesn't mess around. The first episode I ever saw struck me as so nasty it was surreal, I couldn't say I was ready for it, but as I watched more, I developed a taste for Oz, and got accustomed to the high levels of graphic violence. Not just violence, but injustice (crooked guards who'll be sold out for a nickel, inmates who'll kill on order and get away with it, well mannered, middle class inmates being turned into prison bitches due to their lack of street skills or prison experience) Watching Oz, you may become comfortable with what is uncomfortable viewing....thats if you can get in touch with your darker side.\n"
     ]
    }
   ],
   "source": [
    "df = pd.read_csv(\"archive/IMDB Dataset.csv\")\n",
    "print(df.iloc[0,0])"
   ]
  },
  {
   "cell_type": "code",
   "execution_count": 5,
   "id": "a9704748-58cc-4a47-82fb-e7446407aa99",
   "metadata": {},
   "outputs": [
    {
     "data": {
      "text/html": [
       "<div>\n",
       "<style scoped>\n",
       "    .dataframe tbody tr th:only-of-type {\n",
       "        vertical-align: middle;\n",
       "    }\n",
       "\n",
       "    .dataframe tbody tr th {\n",
       "        vertical-align: top;\n",
       "    }\n",
       "\n",
       "    .dataframe thead th {\n",
       "        text-align: right;\n",
       "    }\n",
       "</style>\n",
       "<table border=\"1\" class=\"dataframe\">\n",
       "  <thead>\n",
       "    <tr style=\"text-align: right;\">\n",
       "      <th></th>\n",
       "      <th>review</th>\n",
       "      <th>sentiment</th>\n",
       "    </tr>\n",
       "  </thead>\n",
       "  <tbody>\n",
       "    <tr>\n",
       "      <th>0</th>\n",
       "      <td>One of the other reviewers has mentioned that ...</td>\n",
       "      <td>positive</td>\n",
       "    </tr>\n",
       "    <tr>\n",
       "      <th>1</th>\n",
       "      <td>A wonderful little production. &lt;br /&gt;&lt;br /&gt;The...</td>\n",
       "      <td>positive</td>\n",
       "    </tr>\n",
       "    <tr>\n",
       "      <th>2</th>\n",
       "      <td>I thought this was a wonderful way to spend ti...</td>\n",
       "      <td>positive</td>\n",
       "    </tr>\n",
       "    <tr>\n",
       "      <th>3</th>\n",
       "      <td>Basically there's a family where a little boy ...</td>\n",
       "      <td>negative</td>\n",
       "    </tr>\n",
       "    <tr>\n",
       "      <th>4</th>\n",
       "      <td>Petter Mattei's \"Love in the Time of Money\" is...</td>\n",
       "      <td>positive</td>\n",
       "    </tr>\n",
       "    <tr>\n",
       "      <th>5</th>\n",
       "      <td>Probably my all-time favorite movie, a story o...</td>\n",
       "      <td>positive</td>\n",
       "    </tr>\n",
       "    <tr>\n",
       "      <th>6</th>\n",
       "      <td>I sure would like to see a resurrection of a u...</td>\n",
       "      <td>positive</td>\n",
       "    </tr>\n",
       "    <tr>\n",
       "      <th>7</th>\n",
       "      <td>This show was an amazing, fresh &amp; innovative i...</td>\n",
       "      <td>negative</td>\n",
       "    </tr>\n",
       "    <tr>\n",
       "      <th>8</th>\n",
       "      <td>Encouraged by the positive comments about this...</td>\n",
       "      <td>negative</td>\n",
       "    </tr>\n",
       "    <tr>\n",
       "      <th>9</th>\n",
       "      <td>If you like original gut wrenching laughter yo...</td>\n",
       "      <td>positive</td>\n",
       "    </tr>\n",
       "  </tbody>\n",
       "</table>\n",
       "</div>"
      ],
      "text/plain": [
       "                                              review sentiment\n",
       "0  One of the other reviewers has mentioned that ...  positive\n",
       "1  A wonderful little production. <br /><br />The...  positive\n",
       "2  I thought this was a wonderful way to spend ti...  positive\n",
       "3  Basically there's a family where a little boy ...  negative\n",
       "4  Petter Mattei's \"Love in the Time of Money\" is...  positive\n",
       "5  Probably my all-time favorite movie, a story o...  positive\n",
       "6  I sure would like to see a resurrection of a u...  positive\n",
       "7  This show was an amazing, fresh & innovative i...  negative\n",
       "8  Encouraged by the positive comments about this...  negative\n",
       "9  If you like original gut wrenching laughter yo...  positive"
      ]
     },
     "execution_count": 5,
     "metadata": {},
     "output_type": "execute_result"
    }
   ],
   "source": [
    "df.head(10)"
   ]
  },
  {
   "cell_type": "markdown",
   "id": "e47e6651-6664-4387-bf7e-11603103836a",
   "metadata": {},
   "source": [
    "## Data Preprocessing"
   ]
  },
  {
   "cell_type": "markdown",
   "id": "bcf9573b-aa54-469a-ac23-eeee970be803",
   "metadata": {},
   "source": [
    "__Definfing preprocessing methods__"
   ]
  },
  {
   "cell_type": "code",
   "execution_count": 6,
   "id": "c08214cf-787a-4967-91dd-3eeda6a5f147",
   "metadata": {},
   "outputs": [],
   "source": [
    "# Intialize Lemmetizer\n",
    "lemmatizer = wnl()\n",
    "\n",
    "# Gets the set of stopwords\n",
    "stop_words = set(stopwords.words(\"english\"))\n",
    "\n",
    "def remove_html_tags(sentence_string):\n",
    "    \n",
    "    \"\"\"\n",
    "    sentence_string: A sentence as a string.\n",
    "    returns: sentence string with tags removed\n",
    "    \"\"\"\n",
    "    \n",
    "    clean_text = re.sub(r'<.*?>', '', sentence_string)\n",
    "    \n",
    "    return clean_text\n",
    "\n",
    "def remove_stop_words(sentence_list):\n",
    "    \n",
    "    \"\"\"\n",
    "    sentence_list: Sentence as a list of words, where each word is string.\n",
    "    returns: sentence as list of words with stopwords removed.\n",
    "    \n",
    "    \"\"\"\n",
    "    return [word for word in sentence_list if word not in stop_words]\n",
    "\n",
    "def lemmatize_sentence(sentence_list):\n",
    "    \"\"\"\n",
    "    sentence_list: Sentence as a list of words, where each word is string.\n",
    "    returns: sentence as list of lemmatzed words.\n",
    "    \n",
    "    \"\"\"\n",
    "    return [lemmatizer.lemmatize(word) for word in sentence_list]"
   ]
  },
  {
   "cell_type": "code",
   "execution_count": 7,
   "id": "4eee19e9-f960-4c1b-8827-25a887bd542f",
   "metadata": {},
   "outputs": [],
   "source": [
    "# Encoder for encoding string labels to integers\n",
    "label_encoder = preprocessing.LabelEncoder()\n",
    "\n",
    "\n",
    "# vectorizer that creates bag of words features from each sentence. \n",
    "# The vocabuulary is created by selecting the 2000 most occuring words accross sentneces. \n",
    "# This also takes care of lowercasing. \n",
    "vectorizer = CountVectorizer(max_features=6000,binary=True)\n"
   ]
  },
  {
   "cell_type": "markdown",
   "id": "c8ea2c99-92cb-4ea4-8983-cdf548ba7e2b",
   "metadata": {},
   "source": [
    "__Applying preprocessing__"
   ]
  },
  {
   "cell_type": "code",
   "execution_count": 8,
   "id": "f3224149-2c3c-437c-a3fc-e4c4cdd6dfc2",
   "metadata": {},
   "outputs": [],
   "source": [
    "reviews = df.review\n",
    "reviews = reviews.map(remove_html_tags) # remove html tags\n",
    "reviews = reviews.map(lambda x:x.split()) # Tokenize\n",
    "reviews = reviews.map(remove_stop_words) # remove stopwords\n",
    "reviews = reviews.map(lemmatize_sentence) # lemmatize\n",
    "reviews = reviews.map(lambda x: ' '.join(x)) # create a sentnece by joining the list of words. This is the expected format for sckit fit transform"
   ]
  },
  {
   "cell_type": "code",
   "execution_count": 9,
   "id": "27b9094e-51ac-427a-a499-cb586aa7e147",
   "metadata": {},
   "outputs": [
    {
     "name": "stdout",
     "output_type": "stream",
     "text": [
      "['negative' 'positive']\n"
     ]
    }
   ],
   "source": [
    "# Create bag of words fearures from sentences\n",
    "X = vectorizer.fit_transform(list(reviews))\n",
    "\n",
    "# Convert text labels to integers\n",
    "label_encoder.fit(df.sentiment)\n",
    "target_names=label_encoder.classes_\n",
    "print(target_names)\n",
    "labels=label_encoder.transform(df.sentiment)"
   ]
  },
  {
   "cell_type": "code",
   "execution_count": 10,
   "id": "dc6a73f4-88ac-4c42-9599-a601180b61bb",
   "metadata": {},
   "outputs": [
    {
     "data": {
      "text/plain": [
       "0    One reviewer mentioned watching 1 Oz episode h...\n",
       "1    A wonderful little production. The filming tec...\n",
       "2    I thought wonderful way spend time hot summer ...\n",
       "3    Basically there's family little boy (Jake) thi...\n",
       "4    Petter Mattei's \"Love Time Money\" visually stu...\n",
       "Name: review, dtype: object"
      ]
     },
     "execution_count": 10,
     "metadata": {},
     "output_type": "execute_result"
    }
   ],
   "source": [
    "reviews.head(5)"
   ]
  },
  {
   "cell_type": "markdown",
   "id": "3b36aee9-9a6e-4ba4-83a5-b02a00c7d8f8",
   "metadata": {},
   "source": [
    "__Data split__"
   ]
  },
  {
   "cell_type": "code",
   "execution_count": 11,
   "id": "f6e4904a-b252-4151-b651-c4b3c028bf29",
   "metadata": {},
   "outputs": [
    {
     "data": {
      "text/plain": [
       "((40000, 6000), (40000,))"
      ]
     },
     "execution_count": 11,
     "metadata": {},
     "output_type": "execute_result"
    }
   ],
   "source": [
    "total_examples = X.shape[0]\n",
    "split = int(0.8*total_examples)\n",
    "\n",
    "X_train = X[:split] \n",
    "X_test = X[split:]\n",
    "y_train = labels[:split]\n",
    "y_test  = labels[split:]\n",
    "\n",
    "X_train.shape,y_train.shape"
   ]
  },
  {
   "cell_type": "markdown",
   "id": "224b0a69-fe4e-4058-bace-b5b1d9eb1932",
   "metadata": {},
   "source": [
    "## Modeling"
   ]
  },
  {
   "cell_type": "code",
   "execution_count": 13,
   "id": "a237bebc-5d59-4d17-bd8b-a2835468b706",
   "metadata": {},
   "outputs": [
    {
     "data": {
      "text/html": [
       "<div>\n",
       "<style scoped>\n",
       "    .dataframe tbody tr th:only-of-type {\n",
       "        vertical-align: middle;\n",
       "    }\n",
       "\n",
       "    .dataframe tbody tr th {\n",
       "        vertical-align: top;\n",
       "    }\n",
       "\n",
       "    .dataframe thead th {\n",
       "        text-align: right;\n",
       "    }\n",
       "</style>\n",
       "<table border=\"1\" class=\"dataframe\">\n",
       "  <thead>\n",
       "    <tr style=\"text-align: right;\">\n",
       "      <th></th>\n",
       "      <th>Accuracy</th>\n",
       "      <th>Precision</th>\n",
       "      <th>Recall</th>\n",
       "      <th>F1-Score</th>\n",
       "    </tr>\n",
       "  </thead>\n",
       "  <tbody>\n",
       "    <tr>\n",
       "      <th>0</th>\n",
       "      <td>0.872</td>\n",
       "      <td>0.872</td>\n",
       "      <td>0.872</td>\n",
       "      <td>0.872</td>\n",
       "    </tr>\n",
       "  </tbody>\n",
       "</table>\n",
       "</div>"
      ],
      "text/plain": [
       "   Accuracy  Precision  Recall  F1-Score\n",
       "0     0.872      0.872   0.872     0.872"
      ]
     },
     "execution_count": 13,
     "metadata": {},
     "output_type": "execute_result"
    }
   ],
   "source": [
    "from sklearn.linear_model import LogisticRegression\n",
    "\n",
    "clf = LogisticRegression()\n",
    "clf.fit(X_train, y_train)\n",
    "pred = clf.predict(X_test)\n",
    "\n",
    "\n",
    "\n",
    "metrics =pd.DataFrame(\n",
    "    {\n",
    "        \"Accuracy\" : [round(accuracy_score(y_test,pred),3)],\n",
    "        \"Precision\" : [round(precision_score(y_test,pred),3)],\n",
    "        \"Recall\" : [round(recall_score(y_test,pred),3)],\n",
    "        \"F1-Score\" : [round(f1_score(y_test,pred),3)]\n",
    "    }\n",
    "\n",
    ")\n",
    "metrics"
   ]
  },
  {
   "cell_type": "code",
   "execution_count": 14,
   "id": "594d367d-3453-43d0-ba2d-712c9483eaef",
   "metadata": {},
   "outputs": [
    {
     "data": {
      "image/png": "[encoded data removed]",
      "text/plain": [
       "<Figure size 1000x500 with 2 Axes>"
      ]
     },
     "metadata": {},
     "output_type": "display_data"
    }
   ],
   "source": [
    "fig, ax = plt.subplots(figsize=(10, 5))\n",
    "ConfusionMatrixDisplay.from_predictions(y_test, pred, ax=ax)\n",
    "ax.xaxis.set_ticklabels(target_names)\n",
    "ax.yaxis.set_ticklabels(target_names)\n",
    "_ = ax.set_title(\n",
    "    f\"Confusion Matrix for {clf.__class__.__name__}\\non filtered documents\"\n",
    ")"
   ]
  },
  {
   "cell_type": "markdown",
   "id": "b76ba701-8251-4173-be5f-3799ee7579de",
   "metadata": {},
   "source": [
    "## Submission file(s)\n",
    "\n",
    "#### Preprocessed data\n",
    "- I have excluded the bag of words, and label transformations from the data that will be written to the file below."
   ]
  },
  {
   "cell_type": "code",
   "execution_count": null,
   "id": "14ade9ce-b52f-43b9-950c-6803d30dc806",
   "metadata": {},
   "outputs": [],
   "source": [
    "import csv\n",
    "\n",
    "# Sample data\n",
    "data = [\n",
    "    {\"review\": \"John Doe\", \"sentiment\": 28},\n",
    "]\n"
   ]
  },
  {
   "cell_type": "code",
   "execution_count": 73,
   "id": "17bdd563-51f0-4105-b2b7-71c55edb4175",
   "metadata": {},
   "outputs": [
    {
     "data": {
      "text/plain": [
       "(50000, 50000)"
      ]
     },
     "execution_count": 73,
     "metadata": {},
     "output_type": "execute_result"
    }
   ],
   "source": [
    "len(reviews.tolist()),len(df.sentiment.tolist())"
   ]
  },
  {
   "cell_type": "code",
   "execution_count": 15,
   "id": "46cf766e-967a-4030-a1bf-57da5999d5c6",
   "metadata": {},
   "outputs": [
    {
     "data": {
      "text/plain": [
       "[{'review': \"One reviewer mentioned watching 1 Oz episode hooked. They right, exactly happened me.The first thing struck Oz brutality unflinching scene violence, set right word GO. Trust me, show faint hearted timid. This show pull punch regard drugs, sex violence. Its hardcore, classic use word.It called OZ nickname given Oswald Maximum Security State Penitentary. It focus mainly Emerald City, experimental section prison cell glass front face inwards, privacy high agenda. Em City home many..Aryans, Muslims, gangstas, Latinos, Christians, Italians, Irish more....so scuffles, death stares, dodgy dealing shady agreement never far away.I would say main appeal show due fact go show dare. Forget pretty picture painted mainstream audiences, forget charm, forget romance...OZ mess around. The first episode I ever saw struck nasty surreal, I say I ready it, I watched more, I developed taste Oz, got accustomed high level graphic violence. Not violence, injustice (crooked guard who'll sold nickel, inmate who'll kill order get away it, well mannered, middle class inmate turned prison bitch due lack street skill prison experience) Watching Oz, may become comfortable uncomfortable viewing....thats get touch darker side.\",\n",
       "  'sentiment': 'positive'}]"
      ]
     },
     "execution_count": 15,
     "metadata": {},
     "output_type": "execute_result"
    }
   ],
   "source": [
    "data = []\n",
    "for review, sentiment in zip(reviews.tolist(),df.sentiment.tolist()):\n",
    "    data.append({\"review\":review, \"sentiment\":sentiment})\n",
    "data[:1]"
   ]
  },
  {
   "cell_type": "code",
   "execution_count": 16,
   "id": "caafc539-705b-422e-b7a4-1a2426fc3aef",
   "metadata": {},
   "outputs": [
    {
     "name": "stdout",
     "output_type": "stream",
     "text": [
      "Data successfully written to preprocessed_data.csv\n"
     ]
    }
   ],
   "source": [
    "# Specify the CSV file name\n",
    "filename = \"preprocessed_data.csv\"\n",
    "\n",
    "# Writing to CSV\n",
    "with open(filename, mode='w', newline='',encoding='utf-8') as file:\n",
    "    writer = csv.DictWriter(file, fieldnames=[\"review\", \"sentiment\"])\n",
    "    \n",
    "    # Write the header\n",
    "    writer.writeheader()\n",
    "    \n",
    "    # Write the data rows\n",
    "    writer.writerows(data)\n",
    "\n",
    "print(f\"Data successfully written to {filename}\")\n"
   ]
  },
  {
   "cell_type": "code",
   "execution_count": null,
   "id": "d9681875-71ba-4eee-b866-0231b4a61cbe",
   "metadata": {},
   "outputs": [],
   "source": []
  }
 ],
 "metadata": {
  "kernelspec": {
   "display_name": "Python 3 (ipykernel)",
   "language": "python",
   "name": "python3"
  },
  "language_info": {
   "codemirror_mode": {
    "name": "ipython",
    "version": 3
   },
   "file_extension": ".py",
   "mimetype": "text/x-python",
   "name": "python",
   "nbconvert_exporter": "python",
   "pygments_lexer": "ipython3",
   "version": "3.9.13"
  }
 },
 "nbformat": 4,
 "nbformat_minor": 5
}
